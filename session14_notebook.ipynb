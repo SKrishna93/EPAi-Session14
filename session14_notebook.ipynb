{
 "cells": [
  {
   "cell_type": "code",
   "execution_count": 1,
   "metadata": {},
   "outputs": [],
   "source": [
    "#Import functions from session14\n",
    "from session14 import *\n",
    "from random import randint"
   ]
  },
  {
   "cell_type": "code",
   "execution_count": 2,
   "metadata": {},
   "outputs": [],
   "source": [
    "# Goal 1 :create iterators for each of the four files\n",
    "personal_info_iterator = fetch_records(personal_info_generator)\n",
    "vehicle_iterator = fetch_records(vehicle_generator)\n",
    "employment_iterator = fetch_records(employment_generator)\n",
    "update_status_iterator = fetch_records(update_status_generator)"
   ]
  },
  {
   "cell_type": "code",
   "execution_count": 3,
   "metadata": {},
   "outputs": [],
   "source": [
    "# Goal 2 :create a single iterable that combines all the columns from all the iterators\n",
    "combined_records = combined_records()"
   ]
  },
  {
   "cell_type": "code",
   "execution_count": 4,
   "metadata": {},
   "outputs": [
    {
     "data": {
      "text/plain": [
       "(list, 1000)"
      ]
     },
     "execution_count": 4,
     "metadata": {},
     "output_type": "execute_result"
    }
   ],
   "source": [
    "type(combined_records), len(combined_records)"
   ]
  },
  {
   "cell_type": "code",
   "execution_count": 5,
   "metadata": {},
   "outputs": [
    {
     "data": {
      "text/plain": [
       "combined(SSN='350-20-9593', First_Name='Eldridge', Last_Name='Crispin', Gender='Male', Language='Dutch', Vehicle_Make='Toyota', Vehicle_Model='Echo', Model_Year=2002, Employer='Mann Inc', Department='Services', Employee_Id='09-1183256', Last_Updated=datetime.datetime(2018, 2, 10, 0, 0), Created=datetime.datetime(2016, 4, 12, 0, 0))"
      ]
     },
     "execution_count": 5,
     "metadata": {},
     "output_type": "execute_result"
    }
   ],
   "source": [
    "combined_records[randint(0,1000)]"
   ]
  },
  {
   "cell_type": "code",
   "execution_count": 6,
   "metadata": {},
   "outputs": [
    {
     "name": "stdout",
     "output_type": "stream",
     "text": [
      "Total number of stale records: 129\n",
      "Total number of current records: 871\n"
     ]
    },
    {
     "data": {
      "text/plain": [
       "combined(SSN='101-71-4702', First_Name='Cayla', Last_Name='MacDonagh', Gender='Female', Language='Lao', Vehicle_Make='Ford', Vehicle_Model='Mustang', Model_Year=1997, Employer='Nicolas and Sons', Department='Sales', Employee_Id='41-6841359', Last_Updated=datetime.datetime(2017, 1, 23, 0, 0), Created=datetime.datetime(2016, 1, 27, 0, 0))"
      ]
     },
     "execution_count": 6,
     "metadata": {},
     "output_type": "execute_result"
    }
   ],
   "source": [
    "# Goal 3 :identify any stale records, where stale simply means the record has not been updated \n",
    "# since 3/1/2017 (e.g. last update date < 3/1/2017)\n",
    "stale_records = print_stale_records(combined_records)\n",
    "\n",
    "# stale records returned\n",
    "stale_records[0]"
   ]
  },
  {
   "cell_type": "code",
   "execution_count": 7,
   "metadata": {},
   "outputs": [],
   "source": [
    "# Goal 4 :Find the largest group of car makes for each gender\n",
    "top_count_list = show_top_count(combined_records)"
   ]
  },
  {
   "cell_type": "code",
   "execution_count": 8,
   "metadata": {},
   "outputs": [
    {
     "data": {
      "text/plain": [
       "[[('Ford', 'Female'), 48],\n",
       " [('Chevrolet', 'Female'), 48],\n",
       " [('Ford', 'Male'), 44],\n",
       " [('Chevrolet', 'Male'), 38],\n",
       " [('GMC', 'Male'), 31]]"
      ]
     },
     "execution_count": 8,
     "metadata": {},
     "output_type": "execute_result"
    }
   ],
   "source": [
    "top_count_list"
   ]
  }
 ],
 "metadata": {
  "kernelspec": {
   "display_name": "Python 3",
   "language": "python",
   "name": "python3"
  },
  "language_info": {
   "codemirror_mode": {
    "name": "ipython",
    "version": 3
   },
   "file_extension": ".py",
   "mimetype": "text/x-python",
   "name": "python",
   "nbconvert_exporter": "python",
   "pygments_lexer": "ipython3",
   "version": "3.6.5"
  }
 },
 "nbformat": 4,
 "nbformat_minor": 2
}
